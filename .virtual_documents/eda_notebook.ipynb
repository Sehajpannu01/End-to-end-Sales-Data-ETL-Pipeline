


import pandas as pd


df = pd.read_csv('Data/cleaned/cleaned_sales.csv')
df.head()


df.info()


df.describe()


df.isnull().sum()










