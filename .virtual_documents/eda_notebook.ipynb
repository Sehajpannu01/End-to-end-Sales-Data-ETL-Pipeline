


import pandas as pd


df = pd.read_csv('Data/cleaned/cleaned_sales.csv')
df.head()


df.info()


df.describe()








def try_convert_to_int(series):
    try:
        return series.astype(int)
    except:
        return series


df['InvoiceNo'] = try_convert_to_int(df['InvoiceNo'])
df['StockCode'] = try_convert_to_int(df['StockCode'])


df['InvoiceNo'].str.isnumeric().all()


df['StockCode'].str.isnumeric().all()


df.info()





# Covert InvoiceDate to date time dtype.
df['InvoiceDate'] = pd.to_datetime(df['InvoiceDate'], dayfirst= True)
print(df['InvoiceDate'].dtype)


df.info()


#Chck Missing Values
df.isna().sum()


(df == 0).sum() #column wise 0


(df == 0.0).sum() #column wise 0





(df == 0).sum().sum()






